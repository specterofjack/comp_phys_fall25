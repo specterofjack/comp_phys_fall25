{
 "cells": [
  {
   "cell_type": "code",
   "execution_count": 1,
   "id": "4ae17ad4",
   "metadata": {},
   "outputs": [],
   "source": [
    "import numpy as np\n",
    "import matplotlib.pyplot as plt\n",
    "\n",
    "plt.rcParams['axes.linewidth'] = 2.0"
   ]
  },
  {
   "cell_type": "code",
   "execution_count": 5,
   "id": "0421ef8b",
   "metadata": {},
   "outputs": [],
   "source": [
    "def binary_search(func,x1,x2,etol):\n",
    "    x1_=x1\n",
    "    x2_=x2\n",
    "    if func(x1_)*func(x2_)>0:\n",
    "        raise ValueError(\"Error! You must specify initial x1 and x2 such that f(x1) and f(x2) have opposite signs.\")\n",
    "    \n",
    "    iter=0\n",
    "    xmid=(1/2)*(x1_+x2_)\n",
    "    while np.abs(func(xmid)) > etol and np.abs(x1_-x2_) > etol:\n",
    "        xmid=(1/2)*(x1_+x2_)\n",
    "        if func(xmid)*func(x1_) > 0:\n",
    "            x1_=xmid\n",
    "        else:\n",
    "            x2_=xmid\n",
    "        iter+=1\n",
    "    xfinal=xmid\n",
    "    return xfinal,iter"
   ]
  },
  {
   "cell_type": "code",
   "execution_count": 16,
   "id": "c568d312",
   "metadata": {},
   "outputs": [
    {
     "name": "stdout",
     "output_type": "stream",
     "text": [
      "(4.965114176273346, 24)\n"
     ]
    }
   ],
   "source": [
    "function_2 = lambda x: 5*np.exp(-x) + x - 5\n",
    "print(binary_search(function_2,3,6,1e-7))"
   ]
  }
 ],
 "metadata": {
  "kernelspec": {
   "display_name": "compphysenv",
   "language": "python",
   "name": "python3"
  },
  "language_info": {
   "codemirror_mode": {
    "name": "ipython",
    "version": 3
   },
   "file_extension": ".py",
   "mimetype": "text/x-python",
   "name": "python",
   "nbconvert_exporter": "python",
   "pygments_lexer": "ipython3",
   "version": "3.13.7"
  }
 },
 "nbformat": 4,
 "nbformat_minor": 5
}
