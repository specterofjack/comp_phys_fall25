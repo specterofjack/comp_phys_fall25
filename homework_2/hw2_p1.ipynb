{
 "cells": [
  {
   "cell_type": "code",
   "execution_count": 1,
   "id": "fd31d7e3",
   "metadata": {},
   "outputs": [],
   "source": [
    "import numpy as np\n",
    "import matplotlib.pyplot as plt\n",
    "\n",
    "plt.rcParams['axes.linewidth'] = 2.0"
   ]
  },
  {
   "cell_type": "code",
   "execution_count": 2,
   "id": "20a54aa5",
   "metadata": {},
   "outputs": [],
   "source": [
    "def relaxation(func,x_init,etol):\n",
    "    x=x_init\n",
    "    iter=0\n",
    "    while np.abs(x-func(x))/np.abs(func(x))>etol:\n",
    "        x = func(x)\n",
    "        iter+=1\n",
    "    x_final = x\n",
    "    return x_final,iter\n",
    "\n",
    "def over_relaxation(func,x_init,omega,etol):\n",
    "    x=x_init\n",
    "    iter=0\n",
    "    while np.abs(x-func(x))/np.abs(func(x))>etol:\n",
    "        x = x+(1+omega)*(func(x)-x)\n",
    "        iter+=1\n",
    "    x_final = x\n",
    "    return x_final,iter"
   ]
  },
  {
   "cell_type": "code",
   "execution_count": 3,
   "id": "fd0c581e",
   "metadata": {},
   "outputs": [
    {
     "name": "stdout",
     "output_type": "stream",
     "text": [
      "First, using the usual Relaxation Method:\n",
      "0.796812196962271\n",
      "17 iterations\n",
      "Next, using the Overrelaxation Method:\n",
      "For omega = 0.5:\n",
      "0.7968120840706259\n",
      "8 iterations\n",
      "For omega = 0.6:\n",
      "0.7968121152202092\n",
      "7 iterations\n",
      "For omega = 0.7:\n",
      "0.7968120643663138\n",
      "5 iterations\n",
      "For omega = 0.8:\n",
      "0.7968121634241248\n",
      "7 iterations\n",
      "For omega = 0.9:\n",
      "0.7968121524496715\n",
      "9 iterations\n",
      "For omega = 1:\n",
      "0.7968120467079363\n",
      "10 iterations\n"
     ]
    }
   ],
   "source": [
    "function_1 = lambda x: 1 - np.exp(-2*x)\n",
    "\n",
    "print(\"First, using the usual Relaxation Method:\")\n",
    "print(relaxation(function_1,1.5,1e-7)[0])\n",
    "print(f'{relaxation(function_1,1.5,1e-7)[1]} iterations')\n",
    "\n",
    "print(\"Next, using the Overrelaxation Method:\")\n",
    "print('For omega = 0.5:')\n",
    "print(over_relaxation(function_1,1.5,0.5,1e-7)[0])\n",
    "print(f'{over_relaxation(function_1,1.5,0.5,1e-7)[1]} iterations')\n",
    "\n",
    "print('For omega = 0.6:')\n",
    "print(over_relaxation(function_1,1.5,0.6,1e-7)[0])\n",
    "print(f'{over_relaxation(function_1,1.5,0.6,1e-7)[1]} iterations')\n",
    "\n",
    "print('For omega = 0.7:')\n",
    "print(over_relaxation(function_1,1.5,0.7,1e-7)[0])\n",
    "print(f'{over_relaxation(function_1,1.5,0.7,1e-7)[1]} iterations')\n",
    "\n",
    "print('For omega = 0.8:')\n",
    "print(over_relaxation(function_1,1.5,0.8,1e-7)[0])\n",
    "print(f'{over_relaxation(function_1,1.5,0.8,1e-7)[1]} iterations')\n",
    "\n",
    "print('For omega = 0.9:')\n",
    "print(over_relaxation(function_1,1.5,0.9,1e-7)[0])\n",
    "print(f'{over_relaxation(function_1,1.5,0.9,1e-7)[1]} iterations')\n",
    "\n",
    "print('For omega = 1:')\n",
    "print(over_relaxation(function_1,1.5,1,1e-7)[0])\n",
    "print(f'{over_relaxation(function_1,1.5,1,1e-7)[1]} iterations')"
   ]
  },
  {
   "cell_type": "code",
   "execution_count": null,
   "id": "3ce9e574",
   "metadata": {},
   "outputs": [],
   "source": []
  }
 ],
 "metadata": {
  "kernelspec": {
   "display_name": "compphysenv",
   "language": "python",
   "name": "python3"
  },
  "language_info": {
   "codemirror_mode": {
    "name": "ipython",
    "version": 3
   },
   "file_extension": ".py",
   "mimetype": "text/x-python",
   "name": "python",
   "nbconvert_exporter": "python",
   "pygments_lexer": "ipython3",
   "version": "3.13.7"
  }
 },
 "nbformat": 4,
 "nbformat_minor": 5
}
